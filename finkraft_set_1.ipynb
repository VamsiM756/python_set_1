{
 "cells": [
  {
   "cell_type": "code",
   "execution_count": 113,
   "id": "433f39dc",
   "metadata": {},
   "outputs": [
    {
     "name": "stdout",
     "output_type": "stream",
     "text": [
      "fafafa,sfaa\n",
      "fa"
     ]
    }
   ],
   "source": [
    "#Write a Python program that finds the longest common substring between two strings.\n",
    "def get_longest_substring(s):\n",
    "    l=[] \n",
    "    if string ==\"\":\n",
    "        return None\n",
    "    \n",
    "    for i in string[0]:\n",
    "        for j in string[1]:\n",
    "            if i == j:\n",
    "                l.append(i)\n",
    "              \n",
    "    result=list(dict.fromkeys(l))\n",
    "    for i in (result):  # for remove space between characters\n",
    "        print(i,end=\"\")\n",
    "        \n",
    "string=input().split(',')   # give two strings with ',' seperation\n",
    "get_longest_substring(string)\n"
   ]
  },
  {
   "cell_type": "code",
   "execution_count": null,
   "id": "960c67ea",
   "metadata": {},
   "outputs": [],
   "source": []
  },
  {
   "cell_type": "code",
   "execution_count": null,
   "id": "4f9fb109",
   "metadata": {},
   "outputs": [],
   "source": []
  }
 ],
 "metadata": {
  "kernelspec": {
   "display_name": "Python 3 (ipykernel)",
   "language": "python",
   "name": "python3"
  },
  "language_info": {
   "codemirror_mode": {
    "name": "ipython",
    "version": 3
   },
   "file_extension": ".py",
   "mimetype": "text/x-python",
   "name": "python",
   "nbconvert_exporter": "python",
   "pygments_lexer": "ipython3",
   "version": "3.9.7"
  }
 },
 "nbformat": 4,
 "nbformat_minor": 5
}
